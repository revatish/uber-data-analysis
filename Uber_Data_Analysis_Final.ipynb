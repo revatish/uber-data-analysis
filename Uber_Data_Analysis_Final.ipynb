{
 "cells": [
  {
   "cell_type": "code",
   "execution_count": 1,
   "id": "08376360-4e86-4229-9054-ec2b7dcaf6ed",
   "metadata": {},
   "outputs": [
    {
     "name": "stdout",
     "output_type": "stream",
     "text": [
      "Requirement already satisfied: pandas in c:\\users\\shrut\\anaconda3\\lib\\site-packages (2.2.2)\n",
      "Requirement already satisfied: openpyxl in c:\\users\\shrut\\anaconda3\\lib\\site-packages (3.1.5)\n",
      "Requirement already satisfied: numpy>=1.26.0 in c:\\users\\shrut\\anaconda3\\lib\\site-packages (from pandas) (1.26.4)\n",
      "Requirement already satisfied: python-dateutil>=2.8.2 in c:\\users\\shrut\\anaconda3\\lib\\site-packages (from pandas) (2.9.0.post0)\n",
      "Requirement already satisfied: pytz>=2020.1 in c:\\users\\shrut\\anaconda3\\lib\\site-packages (from pandas) (2024.1)\n",
      "Requirement already satisfied: tzdata>=2022.7 in c:\\users\\shrut\\anaconda3\\lib\\site-packages (from pandas) (2023.3)\n",
      "Requirement already satisfied: et-xmlfile in c:\\users\\shrut\\anaconda3\\lib\\site-packages (from openpyxl) (1.1.0)\n",
      "Requirement already satisfied: six>=1.5 in c:\\users\\shrut\\anaconda3\\lib\\site-packages (from python-dateutil>=2.8.2->pandas) (1.16.0)\n"
     ]
    }
   ],
   "source": [
    "!pip install pandas openpyxl"
   ]
  },
  {
   "cell_type": "code",
   "execution_count": 2,
   "id": "354d058e-3ef4-4a59-a18c-b6fea5469bd9",
   "metadata": {},
   "outputs": [],
   "source": [
    "import pandas as pd"
   ]
  },
  {
   "cell_type": "code",
   "execution_count": 3,
   "id": "c894f021-31a1-49e7-b706-0392b23bbaaf",
   "metadata": {},
   "outputs": [],
   "source": [
    "df = pd.read_excel(\"Uber_Cleaned.xlsx\")"
   ]
  },
  {
   "cell_type": "code",
   "execution_count": 4,
   "id": "2bcbad60-26c4-46f2-a5b8-49fde3368b7c",
   "metadata": {},
   "outputs": [
    {
     "data": {
      "text/html": [
       "<div>\n",
       "<style scoped>\n",
       "    .dataframe tbody tr th:only-of-type {\n",
       "        vertical-align: middle;\n",
       "    }\n",
       "\n",
       "    .dataframe tbody tr th {\n",
       "        vertical-align: top;\n",
       "    }\n",
       "\n",
       "    .dataframe thead th {\n",
       "        text-align: right;\n",
       "    }\n",
       "</style>\n",
       "<table border=\"1\" class=\"dataframe\">\n",
       "  <thead>\n",
       "    <tr style=\"text-align: right;\">\n",
       "      <th></th>\n",
       "      <th>Request id</th>\n",
       "      <th>Pickup point</th>\n",
       "      <th>Driver id</th>\n",
       "      <th>Status</th>\n",
       "      <th>Request timestamp</th>\n",
       "      <th>Drop timestamp</th>\n",
       "      <th>Hour</th>\n",
       "      <th>Time Slot</th>\n",
       "      <th>Trip Completed ?</th>\n",
       "    </tr>\n",
       "  </thead>\n",
       "  <tbody>\n",
       "    <tr>\n",
       "      <th>0</th>\n",
       "      <td>619</td>\n",
       "      <td>Airport</td>\n",
       "      <td>1.0</td>\n",
       "      <td>Trip Completed</td>\n",
       "      <td>2016-07-11 11:51:00</td>\n",
       "      <td>2016-07-11 13:00:00</td>\n",
       "      <td>11</td>\n",
       "      <td>Morning</td>\n",
       "      <td>Yes</td>\n",
       "    </tr>\n",
       "    <tr>\n",
       "      <th>1</th>\n",
       "      <td>867</td>\n",
       "      <td>Airport</td>\n",
       "      <td>1.0</td>\n",
       "      <td>Trip Completed</td>\n",
       "      <td>2016-07-11 17:57:00</td>\n",
       "      <td>2016-07-11 18:47:00</td>\n",
       "      <td>17</td>\n",
       "      <td>Evening</td>\n",
       "      <td>Yes</td>\n",
       "    </tr>\n",
       "    <tr>\n",
       "      <th>2</th>\n",
       "      <td>1807</td>\n",
       "      <td>City</td>\n",
       "      <td>1.0</td>\n",
       "      <td>Trip Completed</td>\n",
       "      <td>2016-07-12 09:17:00</td>\n",
       "      <td>2016-07-12 09:58:00</td>\n",
       "      <td>9</td>\n",
       "      <td>Morning</td>\n",
       "      <td>Yes</td>\n",
       "    </tr>\n",
       "    <tr>\n",
       "      <th>3</th>\n",
       "      <td>2532</td>\n",
       "      <td>Airport</td>\n",
       "      <td>1.0</td>\n",
       "      <td>Trip Completed</td>\n",
       "      <td>2016-07-12 21:08:00</td>\n",
       "      <td>2016-07-12 22:03:00</td>\n",
       "      <td>21</td>\n",
       "      <td>Night</td>\n",
       "      <td>Yes</td>\n",
       "    </tr>\n",
       "    <tr>\n",
       "      <th>4</th>\n",
       "      <td>3112</td>\n",
       "      <td>City</td>\n",
       "      <td>1.0</td>\n",
       "      <td>Trip Completed</td>\n",
       "      <td>2016-07-13 08:33:16</td>\n",
       "      <td>2016-07-13 09:25:47</td>\n",
       "      <td>8</td>\n",
       "      <td>Early Morning</td>\n",
       "      <td>Yes</td>\n",
       "    </tr>\n",
       "  </tbody>\n",
       "</table>\n",
       "</div>"
      ],
      "text/plain": [
       "   Request id Pickup point  Driver id          Status   Request timestamp  \\\n",
       "0         619      Airport        1.0  Trip Completed 2016-07-11 11:51:00   \n",
       "1         867      Airport        1.0  Trip Completed 2016-07-11 17:57:00   \n",
       "2        1807         City        1.0  Trip Completed 2016-07-12 09:17:00   \n",
       "3        2532      Airport        1.0  Trip Completed 2016-07-12 21:08:00   \n",
       "4        3112         City        1.0  Trip Completed 2016-07-13 08:33:16   \n",
       "\n",
       "       Drop timestamp  Hour      Time Slot Trip Completed ?  \n",
       "0 2016-07-11 13:00:00    11        Morning              Yes  \n",
       "1 2016-07-11 18:47:00    17        Evening              Yes  \n",
       "2 2016-07-12 09:58:00     9        Morning              Yes  \n",
       "3 2016-07-12 22:03:00    21          Night              Yes  \n",
       "4 2016-07-13 09:25:47     8  Early Morning              Yes  "
      ]
     },
     "execution_count": 4,
     "metadata": {},
     "output_type": "execute_result"
    }
   ],
   "source": [
    "df.head()"
   ]
  },
  {
   "cell_type": "code",
   "execution_count": 5,
   "id": "a0193737-8eda-413d-9f55-920888e2587b",
   "metadata": {},
   "outputs": [],
   "source": [
    "import sqlite3"
   ]
  },
  {
   "cell_type": "markdown",
   "id": "597b0c55-3797-48ce-8c39-cae2ad9372e6",
   "metadata": {},
   "source": [
    "#create a sqlite3 database in memory or as a file"
   ]
  },
  {
   "cell_type": "code",
   "execution_count": 6,
   "id": "569da32c-a72a-4dfd-b1b9-9a303e4200ff",
   "metadata": {},
   "outputs": [],
   "source": [
    "conn = sqlite3.connect(\"Uber_Cleaned.db\")#this creates a file- based DB"
   ]
  },
  {
   "cell_type": "markdown",
   "id": "76e41b93-cbb7-4dcc-8d3e-8e9087db5021",
   "metadata": {},
   "source": [
    "#write dateframe into sqlite as a table"
   ]
  },
  {
   "cell_type": "code",
   "execution_count": 7,
   "id": "2a58c7fc-c449-4289-a2b6-552a99242788",
   "metadata": {},
   "outputs": [
    {
     "data": {
      "text/plain": [
       "6745"
      ]
     },
     "execution_count": 7,
     "metadata": {},
     "output_type": "execute_result"
    }
   ],
   "source": [
    "df.to_sql(\"uber_data\", conn, if_exists=\"replace\", index=False)"
   ]
  },
  {
   "cell_type": "markdown",
   "id": "f3025dc9-d150-4e13-bdbc-31dfc27a64e7",
   "metadata": {},
   "source": [
    "#let us confirm that the data is loaded "
   ]
  },
  {
   "cell_type": "code",
   "execution_count": 8,
   "id": "8fcd0d3f-615e-4408-98e8-8518b8dca2df",
   "metadata": {},
   "outputs": [],
   "source": [
    "query = \"SELECT * FROM uber_data LIMIT 5\""
   ]
  },
  {
   "cell_type": "code",
   "execution_count": 9,
   "id": "364c3b9b-8930-4c4b-a196-234b96a86970",
   "metadata": {},
   "outputs": [
    {
     "name": "stdout",
     "output_type": "stream",
     "text": [
      "   Request id Pickup point  Driver id          Status    Request timestamp  \\\n",
      "0         619      Airport        1.0  Trip Completed  2016-07-11 11:51:00   \n",
      "1         867      Airport        1.0  Trip Completed  2016-07-11 17:57:00   \n",
      "2        1807         City        1.0  Trip Completed  2016-07-12 09:17:00   \n",
      "3        2532      Airport        1.0  Trip Completed  2016-07-12 21:08:00   \n",
      "4        3112         City        1.0  Trip Completed  2016-07-13 08:33:16   \n",
      "\n",
      "        Drop timestamp  Hour      Time Slot Trip Completed ?  \n",
      "0  2016-07-11 13:00:00    11        Morning              Yes  \n",
      "1  2016-07-11 18:47:00    17        Evening              Yes  \n",
      "2  2016-07-12 09:58:00     9        Morning              Yes  \n",
      "3  2016-07-12 22:03:00    21          Night              Yes  \n",
      "4  2016-07-13 09:25:47     8  Early Morning              Yes  \n"
     ]
    }
   ],
   "source": [
    "result = pd.read_sql_query(query, conn)\n",
    "\n",
    "print(result)"
   ]
  },
  {
   "cell_type": "markdown",
   "id": "dde34009-a75b-42b6-b685-dcd036c0f999",
   "metadata": {},
   "source": [
    "#using sql count the no. of rows"
   ]
  },
  {
   "cell_type": "code",
   "execution_count": 10,
   "id": "9c1bb05c-4d35-43f4-b5a7-f874d7ca69c1",
   "metadata": {},
   "outputs": [
    {
     "data": {
      "text/html": [
       "<div>\n",
       "<style scoped>\n",
       "    .dataframe tbody tr th:only-of-type {\n",
       "        vertical-align: middle;\n",
       "    }\n",
       "\n",
       "    .dataframe tbody tr th {\n",
       "        vertical-align: top;\n",
       "    }\n",
       "\n",
       "    .dataframe thead th {\n",
       "        text-align: right;\n",
       "    }\n",
       "</style>\n",
       "<table border=\"1\" class=\"dataframe\">\n",
       "  <thead>\n",
       "    <tr style=\"text-align: right;\">\n",
       "      <th></th>\n",
       "      <th>COUNT(*)</th>\n",
       "    </tr>\n",
       "  </thead>\n",
       "  <tbody>\n",
       "    <tr>\n",
       "      <th>0</th>\n",
       "      <td>6745</td>\n",
       "    </tr>\n",
       "  </tbody>\n",
       "</table>\n",
       "</div>"
      ],
      "text/plain": [
       "   COUNT(*)\n",
       "0      6745"
      ]
     },
     "execution_count": 10,
     "metadata": {},
     "output_type": "execute_result"
    }
   ],
   "source": [
    "pd.read_sql_query(\"SELECT COUNT(*) FROM uber_data\", conn)"
   ]
  },
  {
   "cell_type": "markdown",
   "id": "83f531f8-90ea-4d19-9b26-eeba39427781",
   "metadata": {},
   "source": [
    "Unique Pickup Points"
   ]
  },
  {
   "cell_type": "code",
   "execution_count": 11,
   "id": "fda9fabe-9e30-4e32-a0aa-041cb30df1d0",
   "metadata": {},
   "outputs": [
    {
     "data": {
      "text/html": [
       "<div>\n",
       "<style scoped>\n",
       "    .dataframe tbody tr th:only-of-type {\n",
       "        vertical-align: middle;\n",
       "    }\n",
       "\n",
       "    .dataframe tbody tr th {\n",
       "        vertical-align: top;\n",
       "    }\n",
       "\n",
       "    .dataframe thead th {\n",
       "        text-align: right;\n",
       "    }\n",
       "</style>\n",
       "<table border=\"1\" class=\"dataframe\">\n",
       "  <thead>\n",
       "    <tr style=\"text-align: right;\">\n",
       "      <th></th>\n",
       "      <th>Pickup point</th>\n",
       "    </tr>\n",
       "  </thead>\n",
       "  <tbody>\n",
       "    <tr>\n",
       "      <th>0</th>\n",
       "      <td>Airport</td>\n",
       "    </tr>\n",
       "    <tr>\n",
       "      <th>1</th>\n",
       "      <td>City</td>\n",
       "    </tr>\n",
       "  </tbody>\n",
       "</table>\n",
       "</div>"
      ],
      "text/plain": [
       "  Pickup point\n",
       "0      Airport\n",
       "1         City"
      ]
     },
     "execution_count": 11,
     "metadata": {},
     "output_type": "execute_result"
    }
   ],
   "source": [
    "pd.read_sql_query(\"SELECT DISTINCT [Pickup point] FROM uber_data\", conn)"
   ]
  },
  {
   "cell_type": "markdown",
   "id": "79711980-749b-413b-9610-49c3ade7da6d",
   "metadata": {},
   "source": [
    "Top Pickup Points by Trip Count"
   ]
  },
  {
   "cell_type": "code",
   "execution_count": 12,
   "id": "8b812d02-f574-412b-9cb4-798e7bb49c02",
   "metadata": {},
   "outputs": [],
   "source": [
    "query = \"\"\"SELECT [Pickup point], COUNT (*) AS [trip count] FROM uber_data GROUP BY [Pickup point] ORDER BY [trip count] DESC LIMIT 5\"\"\""
   ]
  },
  {
   "cell_type": "markdown",
   "id": "2156845b-5d43-4a65-8d80-35e68b298fea",
   "metadata": {},
   "source": [
    " Top Pickup Points by Trip Count"
   ]
  },
  {
   "cell_type": "code",
   "execution_count": 13,
   "id": "a6c7cb29-b31d-49c3-997f-92929ecc77ec",
   "metadata": {},
   "outputs": [
    {
     "data": {
      "text/html": [
       "<div>\n",
       "<style scoped>\n",
       "    .dataframe tbody tr th:only-of-type {\n",
       "        vertical-align: middle;\n",
       "    }\n",
       "\n",
       "    .dataframe tbody tr th {\n",
       "        vertical-align: top;\n",
       "    }\n",
       "\n",
       "    .dataframe thead th {\n",
       "        text-align: right;\n",
       "    }\n",
       "</style>\n",
       "<table border=\"1\" class=\"dataframe\">\n",
       "  <thead>\n",
       "    <tr style=\"text-align: right;\">\n",
       "      <th></th>\n",
       "      <th>Pickup point</th>\n",
       "      <th>trip count</th>\n",
       "    </tr>\n",
       "  </thead>\n",
       "  <tbody>\n",
       "    <tr>\n",
       "      <th>0</th>\n",
       "      <td>City</td>\n",
       "      <td>3507</td>\n",
       "    </tr>\n",
       "    <tr>\n",
       "      <th>1</th>\n",
       "      <td>Airport</td>\n",
       "      <td>3238</td>\n",
       "    </tr>\n",
       "  </tbody>\n",
       "</table>\n",
       "</div>"
      ],
      "text/plain": [
       "  Pickup point  trip count\n",
       "0         City        3507\n",
       "1      Airport        3238"
      ]
     },
     "execution_count": 13,
     "metadata": {},
     "output_type": "execute_result"
    }
   ],
   "source": [
    "pd.read_sql_query(query, conn)"
   ]
  },
  {
   "cell_type": "markdown",
   "id": "4f5fa022-95e3-4e59-9371-9cf080e61d7e",
   "metadata": {},
   "source": [
    "How many total trips were completed, cancelled, or had no cars available?"
   ]
  },
  {
   "cell_type": "code",
   "execution_count": 14,
   "id": "b672d1ea-6603-46dd-92d6-f436cd788f10",
   "metadata": {},
   "outputs": [],
   "source": [
    "query = \"\"\"SELECT [Status], COUNT (*) AS [Trip Count] FROM uber_data GROUP BY [Status] ORDER BY [Trip Count] DESC\"\"\""
   ]
  },
  {
   "cell_type": "code",
   "execution_count": 15,
   "id": "afe8a4f5-f1b1-4a9f-a36a-f71ef8133990",
   "metadata": {},
   "outputs": [
    {
     "data": {
      "text/html": [
       "<div>\n",
       "<style scoped>\n",
       "    .dataframe tbody tr th:only-of-type {\n",
       "        vertical-align: middle;\n",
       "    }\n",
       "\n",
       "    .dataframe tbody tr th {\n",
       "        vertical-align: top;\n",
       "    }\n",
       "\n",
       "    .dataframe thead th {\n",
       "        text-align: right;\n",
       "    }\n",
       "</style>\n",
       "<table border=\"1\" class=\"dataframe\">\n",
       "  <thead>\n",
       "    <tr style=\"text-align: right;\">\n",
       "      <th></th>\n",
       "      <th>Status</th>\n",
       "      <th>Trip Count</th>\n",
       "    </tr>\n",
       "  </thead>\n",
       "  <tbody>\n",
       "    <tr>\n",
       "      <th>0</th>\n",
       "      <td>Trip Completed</td>\n",
       "      <td>2831</td>\n",
       "    </tr>\n",
       "    <tr>\n",
       "      <th>1</th>\n",
       "      <td>No Cars Available</td>\n",
       "      <td>2650</td>\n",
       "    </tr>\n",
       "    <tr>\n",
       "      <th>2</th>\n",
       "      <td>Cancelled</td>\n",
       "      <td>1264</td>\n",
       "    </tr>\n",
       "  </tbody>\n",
       "</table>\n",
       "</div>"
      ],
      "text/plain": [
       "              Status  Trip Count\n",
       "0     Trip Completed        2831\n",
       "1  No Cars Available        2650\n",
       "2          Cancelled        1264"
      ]
     },
     "execution_count": 15,
     "metadata": {},
     "output_type": "execute_result"
    }
   ],
   "source": [
    "pd.read_sql_query(query, conn)"
   ]
  },
  {
   "cell_type": "markdown",
   "id": "70414ac5-4ca5-4260-8db2-0a80a91b8d60",
   "metadata": {},
   "source": [
    "Which pickup point had the most cancelled trips?"
   ]
  },
  {
   "cell_type": "code",
   "execution_count": 16,
   "id": "957853cf-2dfe-4893-9a47-0bf1e1971880",
   "metadata": {},
   "outputs": [
    {
     "data": {
      "text/html": [
       "<div>\n",
       "<style scoped>\n",
       "    .dataframe tbody tr th:only-of-type {\n",
       "        vertical-align: middle;\n",
       "    }\n",
       "\n",
       "    .dataframe tbody tr th {\n",
       "        vertical-align: top;\n",
       "    }\n",
       "\n",
       "    .dataframe thead th {\n",
       "        text-align: right;\n",
       "    }\n",
       "</style>\n",
       "<table border=\"1\" class=\"dataframe\">\n",
       "  <thead>\n",
       "    <tr style=\"text-align: right;\">\n",
       "      <th></th>\n",
       "      <th>Pickup point</th>\n",
       "      <th>Cancelled Trips</th>\n",
       "    </tr>\n",
       "  </thead>\n",
       "  <tbody>\n",
       "    <tr>\n",
       "      <th>0</th>\n",
       "      <td>City</td>\n",
       "      <td>1066</td>\n",
       "    </tr>\n",
       "    <tr>\n",
       "      <th>1</th>\n",
       "      <td>Airport</td>\n",
       "      <td>198</td>\n",
       "    </tr>\n",
       "  </tbody>\n",
       "</table>\n",
       "</div>"
      ],
      "text/plain": [
       "  Pickup point  Cancelled Trips\n",
       "0         City             1066\n",
       "1      Airport              198"
      ]
     },
     "execution_count": 16,
     "metadata": {},
     "output_type": "execute_result"
    }
   ],
   "source": [
    "query = \"\"\"\n",
    "SELECT [Pickup point], COUNT(*) AS \"Cancelled Trips\"\n",
    "FROM uber_data\n",
    "WHERE Status = 'Cancelled'\n",
    "GROUP BY [Pickup point]\n",
    "ORDER BY \"Cancelled Trips\" DESC\n",
    "\"\"\"\n",
    "pd.read_sql_query(query, conn)\n"
   ]
  },
  {
   "cell_type": "code",
   "execution_count": 17,
   "id": "337cf3c5-53da-40ed-a45e-e180f166b2dd",
   "metadata": {},
   "outputs": [
    {
     "data": {
      "text/plain": [
       "Index(['Request id', 'Pickup point', 'Driver id', 'Status',\n",
       "       'Request timestamp', 'Drop timestamp', 'Hour', 'Time Slot',\n",
       "       'Trip Completed ?'],\n",
       "      dtype='object')"
      ]
     },
     "execution_count": 17,
     "metadata": {},
     "output_type": "execute_result"
    }
   ],
   "source": [
    "df.columns"
   ]
  },
  {
   "cell_type": "markdown",
   "id": "945e6fbf-6974-4389-a107-4cbfb949d40c",
   "metadata": {},
   "source": [
    "How many trips were requested in each hour of the day?"
   ]
  },
  {
   "cell_type": "code",
   "execution_count": 18,
   "id": "c9b9b371-d139-442c-98fe-d6ebfee1b78a",
   "metadata": {},
   "outputs": [
    {
     "data": {
      "text/html": [
       "<div>\n",
       "<style scoped>\n",
       "    .dataframe tbody tr th:only-of-type {\n",
       "        vertical-align: middle;\n",
       "    }\n",
       "\n",
       "    .dataframe tbody tr th {\n",
       "        vertical-align: top;\n",
       "    }\n",
       "\n",
       "    .dataframe thead th {\n",
       "        text-align: right;\n",
       "    }\n",
       "</style>\n",
       "<table border=\"1\" class=\"dataframe\">\n",
       "  <thead>\n",
       "    <tr style=\"text-align: right;\">\n",
       "      <th></th>\n",
       "      <th>Hour</th>\n",
       "      <th>Total Trips</th>\n",
       "    </tr>\n",
       "  </thead>\n",
       "  <tbody>\n",
       "    <tr>\n",
       "      <th>0</th>\n",
       "      <td>0</td>\n",
       "      <td>99</td>\n",
       "    </tr>\n",
       "    <tr>\n",
       "      <th>1</th>\n",
       "      <td>1</td>\n",
       "      <td>85</td>\n",
       "    </tr>\n",
       "    <tr>\n",
       "      <th>2</th>\n",
       "      <td>2</td>\n",
       "      <td>99</td>\n",
       "    </tr>\n",
       "    <tr>\n",
       "      <th>3</th>\n",
       "      <td>3</td>\n",
       "      <td>92</td>\n",
       "    </tr>\n",
       "    <tr>\n",
       "      <th>4</th>\n",
       "      <td>4</td>\n",
       "      <td>203</td>\n",
       "    </tr>\n",
       "    <tr>\n",
       "      <th>5</th>\n",
       "      <td>5</td>\n",
       "      <td>445</td>\n",
       "    </tr>\n",
       "    <tr>\n",
       "      <th>6</th>\n",
       "      <td>6</td>\n",
       "      <td>398</td>\n",
       "    </tr>\n",
       "    <tr>\n",
       "      <th>7</th>\n",
       "      <td>7</td>\n",
       "      <td>406</td>\n",
       "    </tr>\n",
       "    <tr>\n",
       "      <th>8</th>\n",
       "      <td>8</td>\n",
       "      <td>423</td>\n",
       "    </tr>\n",
       "    <tr>\n",
       "      <th>9</th>\n",
       "      <td>9</td>\n",
       "      <td>431</td>\n",
       "    </tr>\n",
       "    <tr>\n",
       "      <th>10</th>\n",
       "      <td>10</td>\n",
       "      <td>243</td>\n",
       "    </tr>\n",
       "    <tr>\n",
       "      <th>11</th>\n",
       "      <td>11</td>\n",
       "      <td>171</td>\n",
       "    </tr>\n",
       "    <tr>\n",
       "      <th>12</th>\n",
       "      <td>12</td>\n",
       "      <td>184</td>\n",
       "    </tr>\n",
       "    <tr>\n",
       "      <th>13</th>\n",
       "      <td>13</td>\n",
       "      <td>160</td>\n",
       "    </tr>\n",
       "    <tr>\n",
       "      <th>14</th>\n",
       "      <td>14</td>\n",
       "      <td>136</td>\n",
       "    </tr>\n",
       "    <tr>\n",
       "      <th>15</th>\n",
       "      <td>15</td>\n",
       "      <td>171</td>\n",
       "    </tr>\n",
       "    <tr>\n",
       "      <th>16</th>\n",
       "      <td>16</td>\n",
       "      <td>159</td>\n",
       "    </tr>\n",
       "    <tr>\n",
       "      <th>17</th>\n",
       "      <td>17</td>\n",
       "      <td>418</td>\n",
       "    </tr>\n",
       "    <tr>\n",
       "      <th>18</th>\n",
       "      <td>18</td>\n",
       "      <td>510</td>\n",
       "    </tr>\n",
       "    <tr>\n",
       "      <th>19</th>\n",
       "      <td>19</td>\n",
       "      <td>473</td>\n",
       "    </tr>\n",
       "    <tr>\n",
       "      <th>20</th>\n",
       "      <td>20</td>\n",
       "      <td>492</td>\n",
       "    </tr>\n",
       "    <tr>\n",
       "      <th>21</th>\n",
       "      <td>21</td>\n",
       "      <td>449</td>\n",
       "    </tr>\n",
       "    <tr>\n",
       "      <th>22</th>\n",
       "      <td>22</td>\n",
       "      <td>304</td>\n",
       "    </tr>\n",
       "    <tr>\n",
       "      <th>23</th>\n",
       "      <td>23</td>\n",
       "      <td>194</td>\n",
       "    </tr>\n",
       "  </tbody>\n",
       "</table>\n",
       "</div>"
      ],
      "text/plain": [
       "    Hour  Total Trips\n",
       "0      0           99\n",
       "1      1           85\n",
       "2      2           99\n",
       "3      3           92\n",
       "4      4          203\n",
       "5      5          445\n",
       "6      6          398\n",
       "7      7          406\n",
       "8      8          423\n",
       "9      9          431\n",
       "10    10          243\n",
       "11    11          171\n",
       "12    12          184\n",
       "13    13          160\n",
       "14    14          136\n",
       "15    15          171\n",
       "16    16          159\n",
       "17    17          418\n",
       "18    18          510\n",
       "19    19          473\n",
       "20    20          492\n",
       "21    21          449\n",
       "22    22          304\n",
       "23    23          194"
      ]
     },
     "execution_count": 18,
     "metadata": {},
     "output_type": "execute_result"
    }
   ],
   "source": [
    "query = \"\"\" SELECT [Hour], COUNT(*) AS [Total Trips] FROM uber_data GROUP BY [Hour] ORDER BY [Hour]\"\"\"\n",
    "\n",
    "pd.read_sql_query(query, conn)"
   ]
  },
  {
   "cell_type": "markdown",
   "id": "d8063b01-6e96-4e4c-90c2-c98239a7fdec",
   "metadata": {},
   "source": [
    "Which time slot had the highest number of trip requests?"
   ]
  },
  {
   "cell_type": "code",
   "execution_count": 19,
   "id": "12fcc25e-ae7c-4598-bdc2-f469654a2719",
   "metadata": {
    "scrolled": true
   },
   "outputs": [
    {
     "data": {
      "text/html": [
       "<div>\n",
       "<style scoped>\n",
       "    .dataframe tbody tr th:only-of-type {\n",
       "        vertical-align: middle;\n",
       "    }\n",
       "\n",
       "    .dataframe tbody tr th {\n",
       "        vertical-align: top;\n",
       "    }\n",
       "\n",
       "    .dataframe thead th {\n",
       "        text-align: right;\n",
       "    }\n",
       "</style>\n",
       "<table border=\"1\" class=\"dataframe\">\n",
       "  <thead>\n",
       "    <tr style=\"text-align: right;\">\n",
       "      <th></th>\n",
       "      <th>Time Slot</th>\n",
       "      <th>Trip count</th>\n",
       "    </tr>\n",
       "  </thead>\n",
       "  <tbody>\n",
       "    <tr>\n",
       "      <th>0</th>\n",
       "      <td>Evening</td>\n",
       "      <td>1893</td>\n",
       "    </tr>\n",
       "    <tr>\n",
       "      <th>1</th>\n",
       "      <td>Early Morning</td>\n",
       "      <td>1672</td>\n",
       "    </tr>\n",
       "    <tr>\n",
       "      <th>2</th>\n",
       "      <td>Night</td>\n",
       "      <td>947</td>\n",
       "    </tr>\n",
       "    <tr>\n",
       "      <th>3</th>\n",
       "      <td>Morning</td>\n",
       "      <td>845</td>\n",
       "    </tr>\n",
       "    <tr>\n",
       "      <th>4</th>\n",
       "      <td>Afternoon</td>\n",
       "      <td>810</td>\n",
       "    </tr>\n",
       "    <tr>\n",
       "      <th>5</th>\n",
       "      <td>Late Night</td>\n",
       "      <td>578</td>\n",
       "    </tr>\n",
       "  </tbody>\n",
       "</table>\n",
       "</div>"
      ],
      "text/plain": [
       "       Time Slot  Trip count\n",
       "0        Evening        1893\n",
       "1  Early Morning        1672\n",
       "2          Night         947\n",
       "3        Morning         845\n",
       "4      Afternoon         810\n",
       "5     Late Night         578"
      ]
     },
     "execution_count": 19,
     "metadata": {},
     "output_type": "execute_result"
    }
   ],
   "source": [
    "query = \"\"\"SELECT [Time Slot], COUNT(*) AS [Trip count] FROM uber_data GROUP BY [Time Slot] ORDER BY [Trip Count] DESC\"\"\"\n",
    "\n",
    "pd.read_sql_query(query, conn)"
   ]
  },
  {
   "cell_type": "markdown",
   "id": "b5108ad1-dd95-482e-9d01-6afae4e090e4",
   "metadata": {},
   "source": [
    "Which time slot had the highest number of trip requests?"
   ]
  },
  {
   "cell_type": "code",
   "execution_count": 20,
   "id": "c0b79eb0-a06d-46aa-8580-ff50a113474a",
   "metadata": {},
   "outputs": [
    {
     "data": {
      "text/html": [
       "<div>\n",
       "<style scoped>\n",
       "    .dataframe tbody tr th:only-of-type {\n",
       "        vertical-align: middle;\n",
       "    }\n",
       "\n",
       "    .dataframe tbody tr th {\n",
       "        vertical-align: top;\n",
       "    }\n",
       "\n",
       "    .dataframe thead th {\n",
       "        text-align: right;\n",
       "    }\n",
       "</style>\n",
       "<table border=\"1\" class=\"dataframe\">\n",
       "  <thead>\n",
       "    <tr style=\"text-align: right;\">\n",
       "      <th></th>\n",
       "      <th>Time Slot</th>\n",
       "      <th>Status</th>\n",
       "      <th>Trip Count</th>\n",
       "    </tr>\n",
       "  </thead>\n",
       "  <tbody>\n",
       "    <tr>\n",
       "      <th>0</th>\n",
       "      <td>Afternoon</td>\n",
       "      <td>Trip Completed</td>\n",
       "      <td>491</td>\n",
       "    </tr>\n",
       "    <tr>\n",
       "      <th>1</th>\n",
       "      <td>Afternoon</td>\n",
       "      <td>No Cars Available</td>\n",
       "      <td>228</td>\n",
       "    </tr>\n",
       "    <tr>\n",
       "      <th>2</th>\n",
       "      <td>Afternoon</td>\n",
       "      <td>Cancelled</td>\n",
       "      <td>91</td>\n",
       "    </tr>\n",
       "    <tr>\n",
       "      <th>3</th>\n",
       "      <td>Early Morning</td>\n",
       "      <td>Trip Completed</td>\n",
       "      <td>681</td>\n",
       "    </tr>\n",
       "    <tr>\n",
       "      <th>4</th>\n",
       "      <td>Early Morning</td>\n",
       "      <td>Cancelled</td>\n",
       "      <td>668</td>\n",
       "    </tr>\n",
       "    <tr>\n",
       "      <th>5</th>\n",
       "      <td>Early Morning</td>\n",
       "      <td>No Cars Available</td>\n",
       "      <td>323</td>\n",
       "    </tr>\n",
       "    <tr>\n",
       "      <th>6</th>\n",
       "      <td>Evening</td>\n",
       "      <td>No Cars Available</td>\n",
       "      <td>1127</td>\n",
       "    </tr>\n",
       "    <tr>\n",
       "      <th>7</th>\n",
       "      <td>Evening</td>\n",
       "      <td>Trip Completed</td>\n",
       "      <td>642</td>\n",
       "    </tr>\n",
       "    <tr>\n",
       "      <th>8</th>\n",
       "      <td>Evening</td>\n",
       "      <td>Cancelled</td>\n",
       "      <td>124</td>\n",
       "    </tr>\n",
       "    <tr>\n",
       "      <th>9</th>\n",
       "      <td>Late Night</td>\n",
       "      <td>No Cars Available</td>\n",
       "      <td>299</td>\n",
       "    </tr>\n",
       "    <tr>\n",
       "      <th>10</th>\n",
       "      <td>Late Night</td>\n",
       "      <td>Trip Completed</td>\n",
       "      <td>214</td>\n",
       "    </tr>\n",
       "    <tr>\n",
       "      <th>11</th>\n",
       "      <td>Late Night</td>\n",
       "      <td>Cancelled</td>\n",
       "      <td>65</td>\n",
       "    </tr>\n",
       "    <tr>\n",
       "      <th>12</th>\n",
       "      <td>Morning</td>\n",
       "      <td>Trip Completed</td>\n",
       "      <td>404</td>\n",
       "    </tr>\n",
       "    <tr>\n",
       "      <th>13</th>\n",
       "      <td>Morning</td>\n",
       "      <td>Cancelled</td>\n",
       "      <td>252</td>\n",
       "    </tr>\n",
       "    <tr>\n",
       "      <th>14</th>\n",
       "      <td>Morning</td>\n",
       "      <td>No Cars Available</td>\n",
       "      <td>189</td>\n",
       "    </tr>\n",
       "    <tr>\n",
       "      <th>15</th>\n",
       "      <td>Night</td>\n",
       "      <td>No Cars Available</td>\n",
       "      <td>484</td>\n",
       "    </tr>\n",
       "    <tr>\n",
       "      <th>16</th>\n",
       "      <td>Night</td>\n",
       "      <td>Trip Completed</td>\n",
       "      <td>399</td>\n",
       "    </tr>\n",
       "    <tr>\n",
       "      <th>17</th>\n",
       "      <td>Night</td>\n",
       "      <td>Cancelled</td>\n",
       "      <td>64</td>\n",
       "    </tr>\n",
       "  </tbody>\n",
       "</table>\n",
       "</div>"
      ],
      "text/plain": [
       "        Time Slot             Status  Trip Count\n",
       "0       Afternoon     Trip Completed         491\n",
       "1       Afternoon  No Cars Available         228\n",
       "2       Afternoon          Cancelled          91\n",
       "3   Early Morning     Trip Completed         681\n",
       "4   Early Morning          Cancelled         668\n",
       "5   Early Morning  No Cars Available         323\n",
       "6         Evening  No Cars Available        1127\n",
       "7         Evening     Trip Completed         642\n",
       "8         Evening          Cancelled         124\n",
       "9      Late Night  No Cars Available         299\n",
       "10     Late Night     Trip Completed         214\n",
       "11     Late Night          Cancelled          65\n",
       "12        Morning     Trip Completed         404\n",
       "13        Morning          Cancelled         252\n",
       "14        Morning  No Cars Available         189\n",
       "15          Night  No Cars Available         484\n",
       "16          Night     Trip Completed         399\n",
       "17          Night          Cancelled          64"
      ]
     },
     "execution_count": 20,
     "metadata": {},
     "output_type": "execute_result"
    }
   ],
   "source": [
    "query = \"\"\"SELECT [Time Slot], [Status], COUNT(*) AS [Trip Count] FROM uber_data GROUP BY [Time Slot], [Status] ORDER BY [Time Slot], [Trip Count] DESC\"\"\"\n",
    "pd.read_sql_query(query, conn)"
   ]
  },
  {
   "cell_type": "markdown",
   "id": "1987869d-ffd2-40c9-a47b-cd6e0f13d7d7",
   "metadata": {},
   "source": [
    "Which pickup point had the highest percentage of successful trips?"
   ]
  },
  {
   "cell_type": "code",
   "execution_count": 21,
   "id": "8428a8b1-6fe5-4302-8e17-74dfb110cbe9",
   "metadata": {},
   "outputs": [],
   "source": [
    "query = \"\"\"SELECT [Pickup point], SUM(CASE WHEN [Status] = 'Trip Completed'THEN 1 ELSE 0 END) * 100.0 / COUNT(*) AS [Completion %] FROM uber_data GROUP BY [Pickup point] ORDER BY [Completion %] DESC\"\"\"\n",
    "completion_df = pd.read_sql_query(query, conn)"
   ]
  },
  {
   "cell_type": "code",
   "execution_count": 22,
   "id": "5e7dd3e9-d638-449f-8f2e-9936453a95e6",
   "metadata": {},
   "outputs": [
    {
     "data": {
      "image/png": "[encoded data removed]",
      "text/plain": [
       "<Figure size 600x400 with 1 Axes>"
      ]
     },
     "metadata": {},
     "output_type": "display_data"
    }
   ],
   "source": [
    "import matplotlib.pyplot as plt\n",
    "\n",
    "# Step 1: Run the query and store the result\n",
    "query = \"\"\"\n",
    "SELECT [Pickup point],\n",
    "       SUM(CASE WHEN [Status] = 'Trip Completed' THEN 1 ELSE 0 END) * 100.0 / COUNT(*) AS [Completion %]\n",
    "FROM uber_data\n",
    "GROUP BY [Pickup point]\n",
    "ORDER BY [Completion %] DESC\n",
    "\"\"\"\n",
    "completion_df = pd.read_sql_query(query, conn)\n",
    "\n",
    "# Step 2: Extract data for plotting\n",
    "pickup_points = completion_df[\"Pickup point\"]\n",
    "completion_rates = completion_df[\"Completion %\"]\n",
    "\n",
    "# Step 3: Plot with matplotlib\n",
    "plt.figure(figsize=(6, 4))\n",
    "bars = plt.bar(pickup_points, completion_rates, color=['skyblue', 'orange'])\n",
    "\n",
    "# Add value labels on top of bars\n",
    "for bar in bars:\n",
    "    yval = bar.get_height()\n",
    "    plt.text(bar.get_x() + bar.get_width()/2, yval + 1, f\"{yval:.1f}%\", ha='center')\n",
    "\n",
    "# Add titles and labels\n",
    "plt.title(\"Trip Completion Rate by Pickup Point\")\n",
    "plt.xlabel(\"Pickup Point\")\n",
    "plt.ylabel(\"Completion %\")\n",
    "plt.ylim(0, 100)  # make the y-axis consistent for % values\n",
    "\n",
    "# Show plot\n",
    "plt.tight_layout()\n",
    "plt.show()\n"
   ]
  },
  {
   "cell_type": "code",
   "execution_count": 23,
   "id": "0cc26815-6acd-4d86-8a47-1a156f14a810",
   "metadata": {},
   "outputs": [
    {
     "data": {
      "text/html": [
       "<div>\n",
       "<style scoped>\n",
       "    .dataframe tbody tr th:only-of-type {\n",
       "        vertical-align: middle;\n",
       "    }\n",
       "\n",
       "    .dataframe tbody tr th {\n",
       "        vertical-align: top;\n",
       "    }\n",
       "\n",
       "    .dataframe thead th {\n",
       "        text-align: right;\n",
       "    }\n",
       "</style>\n",
       "<table border=\"1\" class=\"dataframe\">\n",
       "  <thead>\n",
       "    <tr style=\"text-align: right;\">\n",
       "      <th></th>\n",
       "      <th>Pickup point</th>\n",
       "      <th>Completion %</th>\n",
       "      <th>Cancellation %</th>\n",
       "      <th>No Cars Available %</th>\n",
       "    </tr>\n",
       "  </thead>\n",
       "  <tbody>\n",
       "    <tr>\n",
       "      <th>0</th>\n",
       "      <td>City</td>\n",
       "      <td>42.885657</td>\n",
       "      <td>30.396350</td>\n",
       "      <td>26.717993</td>\n",
       "    </tr>\n",
       "    <tr>\n",
       "      <th>1</th>\n",
       "      <td>Airport</td>\n",
       "      <td>40.982088</td>\n",
       "      <td>6.114886</td>\n",
       "      <td>52.903027</td>\n",
       "    </tr>\n",
       "  </tbody>\n",
       "</table>\n",
       "</div>"
      ],
      "text/plain": [
       "  Pickup point  Completion %  Cancellation %  No Cars Available %\n",
       "0         City     42.885657       30.396350            26.717993\n",
       "1      Airport     40.982088        6.114886            52.903027"
      ]
     },
     "execution_count": 23,
     "metadata": {},
     "output_type": "execute_result"
    }
   ],
   "source": [
    "query = \"\"\"\n",
    "SELECT \n",
    "  [Pickup point],\n",
    "  SUM(CASE WHEN [Status] = 'Trip Completed' THEN 1 ELSE 0 END) * 100.0 / COUNT(*) AS [Completion %],\n",
    "  SUM(CASE WHEN [Status] = 'Cancelled' THEN 1 ELSE 0 END) * 100.0 / COUNT(*) AS [Cancellation %],\n",
    "  SUM(CASE WHEN [Status] = 'No Cars Available' THEN 1 ELSE 0 END) * 100.0 / COUNT(*) AS [No Cars Available %]\n",
    "FROM uber_data\n",
    "GROUP BY [Pickup point]\n",
    "ORDER BY [Completion %] DESC\n",
    "\"\"\"\n",
    "\n",
    "pd.read_sql_query(query, conn)\n"
   ]
  },
  {
   "cell_type": "code",
   "execution_count": 24,
   "id": "bf866780-2291-446e-aa7f-f207b464312f",
   "metadata": {},
   "outputs": [
    {
     "data": {
      "image/png": "[encoded data removed]",
      "text/plain": [
       "<Figure size 800x500 with 1 Axes>"
      ]
     },
     "metadata": {},
     "output_type": "display_data"
    }
   ],
   "source": [
    "import matplotlib.pyplot as plt\n",
    "import pandas as pd\n",
    "\n",
    "# Run your query and store result\n",
    "query = \"\"\"\n",
    "SELECT \n",
    "  [Pickup point],\n",
    "  SUM(CASE WHEN [Status] = 'Trip Completed' THEN 1 ELSE 0 END) * 100.0 / COUNT(*) AS [Completion %],\n",
    "  SUM(CASE WHEN [Status] = 'Cancelled' THEN 1 ELSE 0 END) * 100.0 / COUNT(*) AS [Cancellation %],\n",
    "  SUM(CASE WHEN [Status] = 'No Cars Available' THEN 1 ELSE 0 END) * 100.0 / COUNT(*) AS [No Cars Available %]\n",
    "FROM uber_data\n",
    "GROUP BY [Pickup point]\n",
    "ORDER BY [Completion %] DESC\n",
    "\"\"\"\n",
    "\n",
    "df_percent = pd.read_sql_query(query, conn)\n",
    "\n",
    "# Extract X and Y\n",
    "labels = df_percent[\"Pickup point\"]\n",
    "completion = df_percent[\"Completion %\"]\n",
    "cancelled = df_percent[\"Cancellation %\"]\n",
    "no_cars = df_percent[\"No Cars Available %\"]\n",
    "\n",
    "# Plot settings\n",
    "x = range(len(labels))\n",
    "width = 0.25  # width of each bar\n",
    "\n",
    "# Create figure and axis\n",
    "plt.figure(figsize=(8, 5))\n",
    "\n",
    "# Plot each group of bars\n",
    "plt.bar([i - width for i in x], completion, width=width, label='Completion %', color='seagreen')\n",
    "plt.bar(x, cancelled, width=width, label='Cancellation %', color='tomato')\n",
    "plt.bar([i + width for i in x], no_cars, width=width, label='No Cars Available %', color='steelblue')\n",
    "\n",
    "# X-axis setup\n",
    "plt.xticks(x, labels)\n",
    "plt.xlabel(\"Pickup Point\")\n",
    "plt.ylabel(\"Percentage\")\n",
    "plt.title(\"Trip Outcome Percentages by Pickup Point\")\n",
    "plt.ylim(0, 100)\n",
    "plt.legend()\n",
    "\n",
    "# Display bar values\n",
    "for i in x:\n",
    "    plt.text(i - width, completion[i] + 1, f\"{completion[i]:.1f}%\", ha='center')\n",
    "    plt.text(i, cancelled[i] + 1, f\"{cancelled[i]:.1f}%\", ha='center')\n",
    "    plt.text(i + width, no_cars[i] + 1, f\"{no_cars[i]:.1f}%\", ha='center')\n",
    "\n",
    "plt.tight_layout()\n",
    "plt.show()\n"
   ]
  },
  {
   "cell_type": "code",
   "execution_count": 25,
   "id": "c13ebb3b-993d-4eab-be79-41af476599ca",
   "metadata": {},
   "outputs": [],
   "source": [
    "import pandas as pd\n",
    "import matplotlib.pyplot as plt\n",
    "import sqlite3"
   ]
  },
  {
   "cell_type": "code",
   "execution_count": 26,
   "id": "1d547332-aa48-4962-9827-ec15147d507b",
   "metadata": {},
   "outputs": [],
   "source": [
    "df = pd.read_excel(\"Uber_Cleaned.xlsx\")"
   ]
  },
  {
   "cell_type": "code",
   "execution_count": 27,
   "id": "0243dc47-9e95-44c4-bb4f-e62afee8ee6b",
   "metadata": {},
   "outputs": [
    {
     "data": {
      "text/html": [
       "<div>\n",
       "<style scoped>\n",
       "    .dataframe tbody tr th:only-of-type {\n",
       "        vertical-align: middle;\n",
       "    }\n",
       "\n",
       "    .dataframe tbody tr th {\n",
       "        vertical-align: top;\n",
       "    }\n",
       "\n",
       "    .dataframe thead th {\n",
       "        text-align: right;\n",
       "    }\n",
       "</style>\n",
       "<table border=\"1\" class=\"dataframe\">\n",
       "  <thead>\n",
       "    <tr style=\"text-align: right;\">\n",
       "      <th></th>\n",
       "      <th>Request id</th>\n",
       "      <th>Pickup point</th>\n",
       "      <th>Driver id</th>\n",
       "      <th>Status</th>\n",
       "      <th>Request timestamp</th>\n",
       "      <th>Drop timestamp</th>\n",
       "      <th>Hour</th>\n",
       "      <th>Time Slot</th>\n",
       "      <th>Trip Completed ?</th>\n",
       "    </tr>\n",
       "  </thead>\n",
       "  <tbody>\n",
       "    <tr>\n",
       "      <th>0</th>\n",
       "      <td>619</td>\n",
       "      <td>Airport</td>\n",
       "      <td>1.0</td>\n",
       "      <td>Trip Completed</td>\n",
       "      <td>2016-07-11 11:51:00</td>\n",
       "      <td>2016-07-11 13:00:00</td>\n",
       "      <td>11</td>\n",
       "      <td>Morning</td>\n",
       "      <td>Yes</td>\n",
       "    </tr>\n",
       "    <tr>\n",
       "      <th>1</th>\n",
       "      <td>867</td>\n",
       "      <td>Airport</td>\n",
       "      <td>1.0</td>\n",
       "      <td>Trip Completed</td>\n",
       "      <td>2016-07-11 17:57:00</td>\n",
       "      <td>2016-07-11 18:47:00</td>\n",
       "      <td>17</td>\n",
       "      <td>Evening</td>\n",
       "      <td>Yes</td>\n",
       "    </tr>\n",
       "    <tr>\n",
       "      <th>2</th>\n",
       "      <td>1807</td>\n",
       "      <td>City</td>\n",
       "      <td>1.0</td>\n",
       "      <td>Trip Completed</td>\n",
       "      <td>2016-07-12 09:17:00</td>\n",
       "      <td>2016-07-12 09:58:00</td>\n",
       "      <td>9</td>\n",
       "      <td>Morning</td>\n",
       "      <td>Yes</td>\n",
       "    </tr>\n",
       "    <tr>\n",
       "      <th>3</th>\n",
       "      <td>2532</td>\n",
       "      <td>Airport</td>\n",
       "      <td>1.0</td>\n",
       "      <td>Trip Completed</td>\n",
       "      <td>2016-07-12 21:08:00</td>\n",
       "      <td>2016-07-12 22:03:00</td>\n",
       "      <td>21</td>\n",
       "      <td>Night</td>\n",
       "      <td>Yes</td>\n",
       "    </tr>\n",
       "    <tr>\n",
       "      <th>4</th>\n",
       "      <td>3112</td>\n",
       "      <td>City</td>\n",
       "      <td>1.0</td>\n",
       "      <td>Trip Completed</td>\n",
       "      <td>2016-07-13 08:33:16</td>\n",
       "      <td>2016-07-13 09:25:47</td>\n",
       "      <td>8</td>\n",
       "      <td>Early Morning</td>\n",
       "      <td>Yes</td>\n",
       "    </tr>\n",
       "    <tr>\n",
       "      <th>...</th>\n",
       "      <td>...</td>\n",
       "      <td>...</td>\n",
       "      <td>...</td>\n",
       "      <td>...</td>\n",
       "      <td>...</td>\n",
       "      <td>...</td>\n",
       "      <td>...</td>\n",
       "      <td>...</td>\n",
       "      <td>...</td>\n",
       "    </tr>\n",
       "    <tr>\n",
       "      <th>6740</th>\n",
       "      <td>6745</td>\n",
       "      <td>City</td>\n",
       "      <td>NaN</td>\n",
       "      <td>No Cars Available</td>\n",
       "      <td>2016-07-15 23:49:03</td>\n",
       "      <td>NaT</td>\n",
       "      <td>23</td>\n",
       "      <td>Night</td>\n",
       "      <td>No</td>\n",
       "    </tr>\n",
       "    <tr>\n",
       "      <th>6741</th>\n",
       "      <td>6752</td>\n",
       "      <td>Airport</td>\n",
       "      <td>NaN</td>\n",
       "      <td>No Cars Available</td>\n",
       "      <td>2016-07-15 23:50:05</td>\n",
       "      <td>NaT</td>\n",
       "      <td>23</td>\n",
       "      <td>Night</td>\n",
       "      <td>No</td>\n",
       "    </tr>\n",
       "    <tr>\n",
       "      <th>6742</th>\n",
       "      <td>6751</td>\n",
       "      <td>City</td>\n",
       "      <td>NaN</td>\n",
       "      <td>No Cars Available</td>\n",
       "      <td>2016-07-15 23:52:06</td>\n",
       "      <td>NaT</td>\n",
       "      <td>23</td>\n",
       "      <td>Night</td>\n",
       "      <td>No</td>\n",
       "    </tr>\n",
       "    <tr>\n",
       "      <th>6743</th>\n",
       "      <td>6754</td>\n",
       "      <td>City</td>\n",
       "      <td>NaN</td>\n",
       "      <td>No Cars Available</td>\n",
       "      <td>2016-07-15 23:54:39</td>\n",
       "      <td>NaT</td>\n",
       "      <td>23</td>\n",
       "      <td>Night</td>\n",
       "      <td>No</td>\n",
       "    </tr>\n",
       "    <tr>\n",
       "      <th>6744</th>\n",
       "      <td>6753</td>\n",
       "      <td>Airport</td>\n",
       "      <td>NaN</td>\n",
       "      <td>No Cars Available</td>\n",
       "      <td>2016-07-15 23:55:03</td>\n",
       "      <td>NaT</td>\n",
       "      <td>23</td>\n",
       "      <td>Night</td>\n",
       "      <td>No</td>\n",
       "    </tr>\n",
       "  </tbody>\n",
       "</table>\n",
       "<p>6745 rows × 9 columns</p>\n",
       "</div>"
      ],
      "text/plain": [
       "      Request id Pickup point  Driver id             Status  \\\n",
       "0            619      Airport        1.0     Trip Completed   \n",
       "1            867      Airport        1.0     Trip Completed   \n",
       "2           1807         City        1.0     Trip Completed   \n",
       "3           2532      Airport        1.0     Trip Completed   \n",
       "4           3112         City        1.0     Trip Completed   \n",
       "...          ...          ...        ...                ...   \n",
       "6740        6745         City        NaN  No Cars Available   \n",
       "6741        6752      Airport        NaN  No Cars Available   \n",
       "6742        6751         City        NaN  No Cars Available   \n",
       "6743        6754         City        NaN  No Cars Available   \n",
       "6744        6753      Airport        NaN  No Cars Available   \n",
       "\n",
       "       Request timestamp      Drop timestamp  Hour      Time Slot  \\\n",
       "0    2016-07-11 11:51:00 2016-07-11 13:00:00    11        Morning   \n",
       "1    2016-07-11 17:57:00 2016-07-11 18:47:00    17        Evening   \n",
       "2    2016-07-12 09:17:00 2016-07-12 09:58:00     9        Morning   \n",
       "3    2016-07-12 21:08:00 2016-07-12 22:03:00    21          Night   \n",
       "4    2016-07-13 08:33:16 2016-07-13 09:25:47     8  Early Morning   \n",
       "...                  ...                 ...   ...            ...   \n",
       "6740 2016-07-15 23:49:03                 NaT    23          Night   \n",
       "6741 2016-07-15 23:50:05                 NaT    23          Night   \n",
       "6742 2016-07-15 23:52:06                 NaT    23          Night   \n",
       "6743 2016-07-15 23:54:39                 NaT    23          Night   \n",
       "6744 2016-07-15 23:55:03                 NaT    23          Night   \n",
       "\n",
       "     Trip Completed ?  \n",
       "0                 Yes  \n",
       "1                 Yes  \n",
       "2                 Yes  \n",
       "3                 Yes  \n",
       "4                 Yes  \n",
       "...               ...  \n",
       "6740               No  \n",
       "6741               No  \n",
       "6742               No  \n",
       "6743               No  \n",
       "6744               No  \n",
       "\n",
       "[6745 rows x 9 columns]"
      ]
     },
     "execution_count": 27,
     "metadata": {},
     "output_type": "execute_result"
    }
   ],
   "source": [
    "df"
   ]
  },
  {
   "cell_type": "markdown",
   "id": "a4f96a11-b59a-4448-bef8-e929e4fc8dd5",
   "metadata": {},
   "source": [
    "Prepare the Data. We need to convert the time column to a date for SQL to group properly:\n",
    "This adds a new column Request Date that contains only the date part. Many of our SQL charts (like daily cancellations or completion trend) need the date only — not the time. That’s why we create \"Request Date\"."
   ]
  },
  {
   "cell_type": "code",
   "execution_count": 28,
   "id": "54a014bc-f6ac-43da-b58e-fea4866b1169",
   "metadata": {},
   "outputs": [],
   "source": [
    "df['Request timestamp'] = pd.to_datetime(df['Request timestamp'], errors='coerce')\n",
    "df['Request Date'] = df['Request timestamp'].dt.date"
   ]
  },
  {
   "cell_type": "code",
   "execution_count": 29,
   "id": "df108f81-65b7-4ba0-a69a-cbea439541e6",
   "metadata": {},
   "outputs": [
    {
     "data": {
      "text/html": [
       "<div>\n",
       "<style scoped>\n",
       "    .dataframe tbody tr th:only-of-type {\n",
       "        vertical-align: middle;\n",
       "    }\n",
       "\n",
       "    .dataframe tbody tr th {\n",
       "        vertical-align: top;\n",
       "    }\n",
       "\n",
       "    .dataframe thead th {\n",
       "        text-align: right;\n",
       "    }\n",
       "</style>\n",
       "<table border=\"1\" class=\"dataframe\">\n",
       "  <thead>\n",
       "    <tr style=\"text-align: right;\">\n",
       "      <th></th>\n",
       "      <th>Request id</th>\n",
       "      <th>Pickup point</th>\n",
       "      <th>Driver id</th>\n",
       "      <th>Status</th>\n",
       "      <th>Request timestamp</th>\n",
       "      <th>Drop timestamp</th>\n",
       "      <th>Hour</th>\n",
       "      <th>Time Slot</th>\n",
       "      <th>Trip Completed ?</th>\n",
       "      <th>Request Date</th>\n",
       "    </tr>\n",
       "  </thead>\n",
       "  <tbody>\n",
       "    <tr>\n",
       "      <th>0</th>\n",
       "      <td>619</td>\n",
       "      <td>Airport</td>\n",
       "      <td>1.0</td>\n",
       "      <td>Trip Completed</td>\n",
       "      <td>2016-07-11 11:51:00</td>\n",
       "      <td>2016-07-11 13:00:00</td>\n",
       "      <td>11</td>\n",
       "      <td>Morning</td>\n",
       "      <td>Yes</td>\n",
       "      <td>2016-07-11</td>\n",
       "    </tr>\n",
       "    <tr>\n",
       "      <th>1</th>\n",
       "      <td>867</td>\n",
       "      <td>Airport</td>\n",
       "      <td>1.0</td>\n",
       "      <td>Trip Completed</td>\n",
       "      <td>2016-07-11 17:57:00</td>\n",
       "      <td>2016-07-11 18:47:00</td>\n",
       "      <td>17</td>\n",
       "      <td>Evening</td>\n",
       "      <td>Yes</td>\n",
       "      <td>2016-07-11</td>\n",
       "    </tr>\n",
       "    <tr>\n",
       "      <th>2</th>\n",
       "      <td>1807</td>\n",
       "      <td>City</td>\n",
       "      <td>1.0</td>\n",
       "      <td>Trip Completed</td>\n",
       "      <td>2016-07-12 09:17:00</td>\n",
       "      <td>2016-07-12 09:58:00</td>\n",
       "      <td>9</td>\n",
       "      <td>Morning</td>\n",
       "      <td>Yes</td>\n",
       "      <td>2016-07-12</td>\n",
       "    </tr>\n",
       "    <tr>\n",
       "      <th>3</th>\n",
       "      <td>2532</td>\n",
       "      <td>Airport</td>\n",
       "      <td>1.0</td>\n",
       "      <td>Trip Completed</td>\n",
       "      <td>2016-07-12 21:08:00</td>\n",
       "      <td>2016-07-12 22:03:00</td>\n",
       "      <td>21</td>\n",
       "      <td>Night</td>\n",
       "      <td>Yes</td>\n",
       "      <td>2016-07-12</td>\n",
       "    </tr>\n",
       "    <tr>\n",
       "      <th>4</th>\n",
       "      <td>3112</td>\n",
       "      <td>City</td>\n",
       "      <td>1.0</td>\n",
       "      <td>Trip Completed</td>\n",
       "      <td>2016-07-13 08:33:16</td>\n",
       "      <td>2016-07-13 09:25:47</td>\n",
       "      <td>8</td>\n",
       "      <td>Early Morning</td>\n",
       "      <td>Yes</td>\n",
       "      <td>2016-07-13</td>\n",
       "    </tr>\n",
       "  </tbody>\n",
       "</table>\n",
       "</div>"
      ],
      "text/plain": [
       "   Request id Pickup point  Driver id          Status   Request timestamp  \\\n",
       "0         619      Airport        1.0  Trip Completed 2016-07-11 11:51:00   \n",
       "1         867      Airport        1.0  Trip Completed 2016-07-11 17:57:00   \n",
       "2        1807         City        1.0  Trip Completed 2016-07-12 09:17:00   \n",
       "3        2532      Airport        1.0  Trip Completed 2016-07-12 21:08:00   \n",
       "4        3112         City        1.0  Trip Completed 2016-07-13 08:33:16   \n",
       "\n",
       "       Drop timestamp  Hour      Time Slot Trip Completed ? Request Date  \n",
       "0 2016-07-11 13:00:00    11        Morning              Yes   2016-07-11  \n",
       "1 2016-07-11 18:47:00    17        Evening              Yes   2016-07-11  \n",
       "2 2016-07-12 09:58:00     9        Morning              Yes   2016-07-12  \n",
       "3 2016-07-12 22:03:00    21          Night              Yes   2016-07-12  \n",
       "4 2016-07-13 09:25:47     8  Early Morning              Yes   2016-07-13  "
      ]
     },
     "execution_count": 29,
     "metadata": {},
     "output_type": "execute_result"
    }
   ],
   "source": [
    "df.head()"
   ]
  },
  {
   "cell_type": "markdown",
   "id": "63ec9757-37cd-43e3-83cb-2cc1b30d2bf0",
   "metadata": {},
   "source": [
    "Load Your Data into a SQL Database. Create a connection to a temporary in-memory SQL database\n"
   ]
  },
  {
   "cell_type": "code",
   "execution_count": 30,
   "id": "ea4b4d42-2665-4033-8746-9609f47b45a0",
   "metadata": {},
   "outputs": [],
   "source": [
    "import sqlite3\n",
    "conn = sqlite3.connect(\":memory:\")"
   ]
  },
  {
   "cell_type": "markdown",
   "id": "50592759-249d-4813-93a4-c84eeee6c45f",
   "metadata": {},
   "source": [
    "Load the DataFrame into the SQL table named 'uber_data'. Now Excel data will be available as a SQL table called uber_data."
   ]
  },
  {
   "cell_type": "code",
   "execution_count": 31,
   "id": "b66830ff-5f68-41db-9cd5-98a8af7be3ac",
   "metadata": {},
   "outputs": [
    {
     "data": {
      "text/plain": [
       "6745"
      ]
     },
     "execution_count": 31,
     "metadata": {},
     "output_type": "execute_result"
    }
   ],
   "source": [
    "df.to_sql(\"uber_data\", conn, if_exists=\"replace\", index=False)"
   ]
  },
  {
   "cell_type": "code",
   "execution_count": 32,
   "id": "c1bcb2d3-3b6a-45f9-9693-7e02a352ead4",
   "metadata": {},
   "outputs": [
    {
     "data": {
      "image/png": "[encoded data removed]",
      "text/plain": [
       "<Figure size 600x400 with 1 Axes>"
      ]
     },
     "metadata": {},
     "output_type": "display_data"
    }
   ],
   "source": [
    "# 1. SQL Query to get trip counts grouped by pickup point\n",
    "query1 = \"\"\"\n",
    "SELECT [Pickup point], COUNT(*) AS [Trip Count]\n",
    "FROM uber_data\n",
    "GROUP BY [Pickup point]\n",
    "ORDER BY [Trip Count] DESC\n",
    "\"\"\"\n",
    "\n",
    "# 2. Run the query and store result in a DataFrame\n",
    "result1 = pd.read_sql_query(query1, conn)\n",
    "\n",
    "# 3. Plot the result using matplotlib\n",
    "import matplotlib.pyplot as plt\n",
    "\n",
    "plt.figure(figsize=(6, 4))\n",
    "plt.bar(result1[\"Pickup point\"], result1[\"Trip Count\"], color=\"teal\")\n",
    "plt.title(\"Total Trip Count by Pickup Point\")\n",
    "plt.xlabel(\"Pickup Point\")\n",
    "plt.ylabel(\"Trip Count\")\n",
    "plt.tight_layout()\n",
    "plt.show()\n"
   ]
  },
  {
   "cell_type": "code",
   "execution_count": 33,
   "id": "df0c74ef-1829-4974-b339-a2254c3097da",
   "metadata": {},
   "outputs": [
    {
     "data": {
      "image/png": "[encoded data removed]",
      "text/plain": [
       "<Figure size 600x400 with 1 Axes>"
      ]
     },
     "metadata": {},
     "output_type": "display_data"
    }
   ],
   "source": [
    "# 1. SQL query to count trips grouped by Status\n",
    "query2 = \"\"\"\n",
    "SELECT [Status], COUNT(*) AS [Trip Count]\n",
    "FROM uber_data\n",
    "GROUP BY [Status]\n",
    "ORDER BY [Trip Count] DESC\n",
    "\"\"\"\n",
    "\n",
    "# 2. Run the query\n",
    "result2 = pd.read_sql_query(query2, conn)\n",
    "\n",
    "# 3. Plot using matplotlib\n",
    "plt.figure(figsize=(6, 4))\n",
    "plt.bar(result2[\"Status\"], result2[\"Trip Count\"], color=\"salmon\")\n",
    "plt.title(\"Trip Count by Status\")\n",
    "plt.xlabel(\"Trip Status\")\n",
    "plt.ylabel(\"Number of Trips\")\n",
    "plt.xticks(rotation=15)\n",
    "plt.tight_layout()\n",
    "plt.show()\n"
   ]
  },
  {
   "cell_type": "markdown",
   "id": "c0950cf2-5ed9-4271-9449-0d3b9f97b3ba",
   "metadata": {},
   "source": [
    "You now have two powerful visual insights:\n",
    "\n",
    "Pickup Point vs. Trip Count\n",
    "\n",
    "Status vs. Trip Count\n",
    "\n",
    "These already help tell a story:\n",
    "\n",
    " Where are people requesting rides from?\n",
    " How many trips are actually getting completed?"
   ]
  },
  {
   "cell_type": "markdown",
   "id": "f511238d-f109-44bc-bae5-e8fdadee4cb8",
   "metadata": {},
   "source": [
    "#Next Chart: Daily Trip Trends\n",
    "This chart will show how trip volume changed day by day — super useful for spotting:\n",
    "\n",
    "Peak demand dates 📈\n",
    "\n",
    "Low activity days 📉"
   ]
  },
  {
   "cell_type": "code",
   "execution_count": 34,
   "id": "01a35268-bf68-430e-8666-c3f5ea265934",
   "metadata": {},
   "outputs": [
    {
     "data": {
      "image/png": "[encoded data removed]",
      "text/plain": [
       "<Figure size 1000x400 with 1 Axes>"
      ]
     },
     "metadata": {},
     "output_type": "display_data"
    }
   ],
   "source": [
    "# 1. SQL to get number of trips per date\n",
    "query3 = \"\"\"\n",
    "SELECT [Request Date], COUNT(*) AS [Trip Count]\n",
    "FROM uber_data\n",
    "GROUP BY [Request Date]\n",
    "ORDER BY [Request Date]\n",
    "\"\"\"\n",
    "\n",
    "# 2. Run the query\n",
    "result3 = pd.read_sql_query(query3, conn)\n",
    "\n",
    "# 3. Plot the daily trip trend\n",
    "plt.figure(figsize=(10, 4))\n",
    "plt.plot(result3[\"Request Date\"], result3[\"Trip Count\"], marker='o', linestyle='-', color='green')\n",
    "plt.title(\"Daily Trip Request Trend\")\n",
    "plt.xlabel(\"Date\")\n",
    "plt.ylabel(\"Number of Trips\")\n",
    "plt.xticks(rotation=45)\n",
    "plt.tight_layout()\n",
    "plt.show()\n"
   ]
  },
  {
   "cell_type": "markdown",
   "id": "a79a5664-c0b5-4ce4-b277-6a8f53d0e24f",
   "metadata": {},
   "source": [
    "What I’ve Built So Far:\n",
    "Chart\tInsight\n",
    " Trip Count by Pickup Point\tWhich location had more ride requests\n",
    " Trip Count by Status\tHow many trips were successful vs failed\n",
    " Trip Trend by Date\tHow demand changed over time"
   ]
  },
  {
   "cell_type": "markdown",
   "id": "16360433-f848-472e-97a4-9b6cffc615cd",
   "metadata": {},
   "source": [
    "Next Chart: Trip Status % by Pickup Point\n",
    "This will show:\n",
    "\n",
    "Completion %\n",
    "\n",
    "Cancellation %\n",
    "\n",
    "No Cars Available %\n",
    "\n",
    "...for City and Airport, side-by-side"
   ]
  },
  {
   "cell_type": "code",
   "execution_count": 35,
   "id": "3ef70583-8d4a-4c89-b518-c75c086e34eb",
   "metadata": {},
   "outputs": [
    {
     "data": {
      "text/html": [
       "<div>\n",
       "<style scoped>\n",
       "    .dataframe tbody tr th:only-of-type {\n",
       "        vertical-align: middle;\n",
       "    }\n",
       "\n",
       "    .dataframe tbody tr th {\n",
       "        vertical-align: top;\n",
       "    }\n",
       "\n",
       "    .dataframe thead th {\n",
       "        text-align: right;\n",
       "    }\n",
       "</style>\n",
       "<table border=\"1\" class=\"dataframe\">\n",
       "  <thead>\n",
       "    <tr style=\"text-align: right;\">\n",
       "      <th></th>\n",
       "      <th>Pickup point</th>\n",
       "      <th>Completion %</th>\n",
       "      <th>Cancellation %</th>\n",
       "      <th>No Cars Available %</th>\n",
       "    </tr>\n",
       "  </thead>\n",
       "  <tbody>\n",
       "    <tr>\n",
       "      <th>0</th>\n",
       "      <td>City</td>\n",
       "      <td>42.885657</td>\n",
       "      <td>30.396350</td>\n",
       "      <td>26.717993</td>\n",
       "    </tr>\n",
       "    <tr>\n",
       "      <th>1</th>\n",
       "      <td>Airport</td>\n",
       "      <td>40.982088</td>\n",
       "      <td>6.114886</td>\n",
       "      <td>52.903027</td>\n",
       "    </tr>\n",
       "  </tbody>\n",
       "</table>\n",
       "</div>"
      ],
      "text/plain": [
       "  Pickup point  Completion %  Cancellation %  No Cars Available %\n",
       "0         City     42.885657       30.396350            26.717993\n",
       "1      Airport     40.982088        6.114886            52.903027"
      ]
     },
     "execution_count": 35,
     "metadata": {},
     "output_type": "execute_result"
    }
   ],
   "source": [
    "query4 = \"\"\"\n",
    "SELECT \n",
    "  [Pickup point],\n",
    "  SUM(CASE WHEN [Status] = 'Trip Completed' THEN 1 ELSE 0 END) * 100.0 / COUNT(*) AS [Completion %],\n",
    "  SUM(CASE WHEN [Status] = 'Cancelled' THEN 1 ELSE 0 END) * 100.0 / COUNT(*) AS [Cancellation %],\n",
    "  SUM(CASE WHEN [Status] = 'No Cars Available' THEN 1 ELSE 0 END) * 100.0 / COUNT(*) AS [No Cars Available %]\n",
    "FROM uber_data\n",
    "GROUP BY [Pickup point]\n",
    "ORDER BY [Completion %] DESC\n",
    "\"\"\"\n",
    "result4 = pd.read_sql_query(query4, conn)\n",
    "result4\n"
   ]
  },
  {
   "cell_type": "code",
   "execution_count": 36,
   "id": "e2925ce6-426e-4ae8-8ca9-d16ca7bc179a",
   "metadata": {},
   "outputs": [
    {
     "data": {
      "image/png": "[encoded data removed]",
      "text/plain": [
       "<Figure size 1000x600 with 1 Axes>"
      ]
     },
     "metadata": {},
     "output_type": "display_data"
    }
   ],
   "source": [
    "import matplotlib.pyplot as plt\n",
    "import numpy as np\n",
    "\n",
    "# Extract values\n",
    "labels = result4[\"Pickup point\"]\n",
    "completion = result4[\"Completion %\"]\n",
    "cancellation = result4[\"Cancellation %\"]\n",
    "no_cars = result4[\"No Cars Available %\"]\n",
    "\n",
    "# X positions\n",
    "x = np.arange(len(labels))  # [0, 1]\n",
    "width = 0.25  # width of each bar\n",
    "\n",
    "# Create the plot\n",
    "plt.figure(figsize=(10, 6))\n",
    "bars1 = plt.bar(x - width, completion, width, label=\"Completion %\", color='green')\n",
    "bars2 = plt.bar(x, cancellation, width, label=\"Cancellation %\", color='red')\n",
    "bars3 = plt.bar(x + width, no_cars, width, label=\"No Cars Available %\", color='orange')\n",
    "\n",
    "# Add labels to each bar (for all 3 categories)\n",
    "def add_labels(bars):\n",
    "    for bar in bars:\n",
    "        height = bar.get_height()\n",
    "        plt.annotate(f'{height:.1f}%',\n",
    "                     xy=(bar.get_x() + bar.get_width() / 2, height),\n",
    "                     xytext=(0, 3),  # offset above bar\n",
    "                     textcoords=\"offset points\",\n",
    "                     ha='center', va='bottom', fontsize=9, fontweight='bold')\n",
    "\n",
    "add_labels(bars1)\n",
    "add_labels(bars2)\n",
    "add_labels(bars3)\n",
    "\n",
    "# Axis and titles\n",
    "plt.xlabel(\"Pickup Point\", fontsize=12)\n",
    "plt.ylabel(\"Percentage (%)\", fontsize=12)\n",
    "plt.title(\"Trip Status Percentage by Pickup Point\", fontsize=14)\n",
    "plt.xticks(x, labels, fontsize=11)\n",
    "plt.yticks(np.arange(0, 101, 10))  # 0 to 100 scale\n",
    "plt.grid(axis='y', linestyle='--', alpha=0.5)\n",
    "plt.legend()\n",
    "plt.tight_layout()\n",
    "\n",
    "# Save the figure as PNG (optional)\n",
    "plt.savefig(\"uber_trip_status_comparison.png\", dpi=300)\n",
    "\n",
    "# Show the chart\n",
    "plt.show()\n"
   ]
  },
  {
   "cell_type": "markdown",
   "id": "7dc1a825-c925-4660-b69d-10235dd482d2",
   "metadata": {},
   "source": [
    " Pie Chart 1: Overall Trip Status Breakdown. What percentage of Uber trips were Completed, Cancelled, or Unavailable?"
   ]
  },
  {
   "cell_type": "code",
   "execution_count": 37,
   "id": "5abfce47-a0cb-4187-beae-771d8f1d17ac",
   "metadata": {},
   "outputs": [
    {
     "data": {
      "image/png": "[encoded data removed]",
      "text/plain": [
       "<Figure size 600x600 with 1 Axes>"
      ]
     },
     "metadata": {},
     "output_type": "display_data"
    }
   ],
   "source": [
    "# SQL query to get trip counts by status\n",
    "query = \"\"\"\n",
    "SELECT [Status], COUNT(*) AS [Trip Count]\n",
    "FROM uber_data\n",
    "GROUP BY [Status]\n",
    "\"\"\"\n",
    "\n",
    "trip_status_df = pd.read_sql_query(query, conn)\n",
    "\n",
    "# Plot pie chart\n",
    "plt.figure(figsize=(6, 6))\n",
    "plt.pie(trip_status_df[\"Trip Count\"], \n",
    "        labels=trip_status_df[\"Status\"], \n",
    "        autopct='%1.1f%%', \n",
    "        colors=['green', 'red', 'orange'],\n",
    "        startangle=140, \n",
    "        shadow=True)\n",
    "plt.title(\"Trip Status Distribution\")\n",
    "plt.tight_layout()\n",
    "plt.show()\n"
   ]
  },
  {
   "cell_type": "markdown",
   "id": "d31c1ecf-82bf-4f3d-9f5e-a049dcd79f8c",
   "metadata": {},
   "source": [
    "Pie Chart 2: Pickup Point Share.This chart will help you compare how many trips originated from:\n",
    "📍 City\n",
    "✈️ Airport"
   ]
  },
  {
   "cell_type": "code",
   "execution_count": 38,
   "id": "29016be0-2b54-4835-b8c6-f8fd6c1c3c3f",
   "metadata": {},
   "outputs": [
    {
     "data": {
      "image/png": "[encoded data removed]",
      "text/plain": [
       "<Figure size 600x600 with 1 Axes>"
      ]
     },
     "metadata": {},
     "output_type": "display_data"
    }
   ],
   "source": [
    "# SQL query to count trips from each pickup point\n",
    "query = \"\"\"\n",
    "SELECT [Pickup point], COUNT(*) AS [Trip Count]\n",
    "FROM uber_data\n",
    "GROUP BY [Pickup point]\n",
    "\"\"\"\n",
    "\n",
    "pickup_point_df = pd.read_sql_query(query, conn)\n",
    "\n",
    "# Plot pie chart\n",
    "plt.figure(figsize=(6, 6))\n",
    "plt.pie(\n",
    "    pickup_point_df[\"Trip Count\"],\n",
    "    labels=pickup_point_df[\"Pickup point\"],\n",
    "    autopct='%1.1f%%',\n",
    "    colors=['skyblue', 'lightcoral'],\n",
    "    startangle=140,\n",
    "    shadow=True\n",
    ")\n",
    "plt.title(\"Trip Share by Pickup Point\")\n",
    "plt.tight_layout()\n",
    "plt.show()\n"
   ]
  },
  {
   "cell_type": "markdown",
   "id": "a9f920fc-5d95-4e86-a7b2-5c7d88049105",
   "metadata": {},
   "source": [
    "What This Chart Shows:\n",
    "It answers the question:\n",
    "\n",
    "“What % of trips were requested from City vs Airport?”\n",
    "\n",
    "Useful to analyze demand patterns and optimize driver availability."
   ]
  },
  {
   "cell_type": "markdown",
   "id": "a25193d0-4560-433f-98b2-2f784264bb79",
   "metadata": {},
   "source": [
    "Save Trip Status Pie Chart"
   ]
  },
  {
   "cell_type": "code",
   "execution_count": 39,
   "id": "758144c6-ab06-4a87-92ef-b872934d3318",
   "metadata": {},
   "outputs": [],
   "source": [
    "# Query\n",
    "query = \"\"\"\n",
    "SELECT [Status], COUNT(*) AS [Trip Count]\n",
    "FROM uber_data\n",
    "GROUP BY [Status]\n",
    "\"\"\"\n",
    "trip_status_df = pd.read_sql_query(query, conn)\n",
    "\n",
    "# Save plot\n",
    "plt.figure(figsize=(6, 6))\n",
    "plt.pie(\n",
    "    trip_status_df[\"Trip Count\"],\n",
    "    labels=trip_status_df[\"Status\"],\n",
    "    autopct='%1.1f%%',\n",
    "    colors=['green', 'red', 'orange'],\n",
    "    startangle=140,\n",
    "    shadow=True\n",
    ")\n",
    "plt.title(\"Trip Status Distribution\")\n",
    "plt.tight_layout()\n",
    "plt.savefig(\"trip_status_pie.png\")\n",
    "plt.close()\n"
   ]
  },
  {
   "cell_type": "markdown",
   "id": "778232ce-59a1-42a9-892b-587979eefedb",
   "metadata": {},
   "source": [
    "Save Pickup Point Pie Chart"
   ]
  },
  {
   "cell_type": "code",
   "execution_count": 40,
   "id": "7345d809-1f12-4eb9-a335-6680e5455759",
   "metadata": {},
   "outputs": [],
   "source": [
    "# Query\n",
    "query = \"\"\"\n",
    "SELECT [Pickup point], COUNT(*) AS [Trip Count]\n",
    "FROM uber_data\n",
    "GROUP BY [Pickup point]\n",
    "\"\"\"\n",
    "pickup_point_df = pd.read_sql_query(query, conn)\n",
    "\n",
    "# Save plot\n",
    "plt.figure(figsize=(6, 6))\n",
    "plt.pie(\n",
    "    pickup_point_df[\"Trip Count\"],\n",
    "    labels=pickup_point_df[\"Pickup point\"],\n",
    "    autopct='%1.1f%%',\n",
    "    colors=['skyblue', 'lightcoral'],\n",
    "    startangle=140,\n",
    "    shadow=True\n",
    ")\n",
    "plt.title(\"Pickup Point Share\")\n",
    "plt.tight_layout()\n",
    "plt.savefig(\"pickup_point_pie.png\")\n",
    "plt.close()\n"
   ]
  },
  {
   "cell_type": "markdown",
   "id": "e024b9ed-f8be-481a-b7a5-a2080d19f96f",
   "metadata": {},
   "source": [
    "Save Completion % Bar Chart"
   ]
  },
  {
   "cell_type": "code",
   "execution_count": 41,
   "id": "cbc12bff-46df-464d-9933-9ce16bb9a79c",
   "metadata": {},
   "outputs": [],
   "source": [
    "query = \"\"\"\n",
    "SELECT [Pickup point],\n",
    "       SUM(CASE WHEN [Status] = 'Trip Completed' THEN 1 ELSE 0 END) * 100.0 / COUNT(*) AS [Completion %],\n",
    "       SUM(CASE WHEN [Status] = 'Cancelled' THEN 1 ELSE 0 END) * 100.0 / COUNT(*) AS [Cancellation %],\n",
    "       SUM(CASE WHEN [Status] = 'No Cars Available' THEN 1 ELSE 0 END) * 100.0 / COUNT(*) AS [No Cars Available %]\n",
    "FROM uber_data\n",
    "GROUP BY [Pickup point]\n",
    "ORDER BY [Completion %] DESC\n",
    "\"\"\"\n",
    "result4 = pd.read_sql_query(query, conn)\n"
   ]
  },
  {
   "cell_type": "code",
   "execution_count": 42,
   "id": "a1fec156-07c2-4bd6-9f91-b4fabd104889",
   "metadata": {},
   "outputs": [],
   "source": [
    "import numpy as np\n",
    "\n",
    "labels = result4[\"Pickup point\"]\n",
    "completion = result4[\"Completion %\"]\n",
    "cancellation = result4[\"Cancellation %\"]\n",
    "no_cars = result4[\"No Cars Available %\"]\n",
    "\n",
    "x = np.arange(len(labels))\n",
    "width = 0.25\n",
    "\n",
    "plt.figure(figsize=(8, 6))\n",
    "plt.bar(x - width, completion, width, label=\"Completion %\", color=\"green\")\n",
    "plt.bar(x, cancellation, width, label=\"Cancellation %\", color=\"red\")\n",
    "plt.bar(x + width, no_cars, width, label=\"No Cars Available %\", color=\"orange\")\n",
    "\n",
    "plt.ylabel(\"Percentage\")\n",
    "plt.title(\"Trip Status Comparison by Pickup Point\")\n",
    "plt.xticks(x, labels)\n",
    "plt.legend()\n",
    "plt.tight_layout()\n",
    "plt.savefig(\"uber_trip_status_comparison.png\")\n",
    "plt.close()\n"
   ]
  },
  {
   "cell_type": "code",
   "execution_count": 43,
   "id": "2471fbb2-1d06-4a19-8872-cd24cdb1cb91",
   "metadata": {},
   "outputs": [
    {
     "data": {
      "text/plain": [
       "True"
      ]
     },
     "execution_count": 43,
     "metadata": {},
     "output_type": "execute_result"
    }
   ],
   "source": [
    "import os\n",
    "\n",
    "# Check if the file exists\n",
    "os.path.exists(\"uber_trip_status_comparison.png\")\n"
   ]
  },
  {
   "cell_type": "markdown",
   "id": "aa5eddcd-00de-4f21-b5a5-99e13067f8d7",
   "metadata": {},
   "source": [
    "Final Step: Create the PowerPoint"
   ]
  },
  {
   "cell_type": "code",
   "execution_count": 44,
   "id": "a433d9f2-15c3-4978-b5dd-4c09cd55b6bb",
   "metadata": {},
   "outputs": [
    {
     "name": "stdout",
     "output_type": "stream",
     "text": [
      "Requirement already satisfied: python-pptx in c:\\users\\shrut\\anaconda3\\lib\\site-packages (1.0.2)\n",
      "Requirement already satisfied: Pillow>=3.3.2 in c:\\users\\shrut\\anaconda3\\lib\\site-packages (from python-pptx) (10.4.0)\n",
      "Requirement already satisfied: XlsxWriter>=0.5.7 in c:\\users\\shrut\\anaconda3\\lib\\site-packages (from python-pptx) (3.2.5)\n",
      "Requirement already satisfied: lxml>=3.1.0 in c:\\users\\shrut\\anaconda3\\lib\\site-packages (from python-pptx) (5.2.1)\n",
      "Requirement already satisfied: typing-extensions>=4.9.0 in c:\\users\\shrut\\anaconda3\\lib\\site-packages (from python-pptx) (4.11.0)\n"
     ]
    }
   ],
   "source": [
    "!pip install python-pptx"
   ]
  },
  {
   "cell_type": "code",
   "execution_count": 45,
   "id": "8988f318-17ce-4e09-86dd-47c1967ccb99",
   "metadata": {},
   "outputs": [],
   "source": [
    "from pptx import Presentation\n",
    "from pptx.util import Inches\n",
    "\n",
    "# Create presentation\n",
    "prs = Presentation()\n",
    "\n",
    "# Slide 1 - Title Slide\n",
    "slide = prs.slides.add_slide(prs.slide_layouts[0])\n",
    "slide.shapes.title.text = \"Uber Trips Data Analysis\"\n",
    "slide.placeholders[1].text = \"By Shruti Sumadhur Ghosh\"\n",
    "\n",
    "# Slide 2 - Objective\n",
    "slide = prs.slides.add_slide(prs.slide_layouts[1])\n",
    "slide.shapes.title.text = \"Project Objective\"\n",
    "slide.placeholders[1].text = (\n",
    "    \"To analyze Uber trip patterns using SQL and Python.\\n\"\n",
    "    \"We aim to understand trip completion, cancellations, and unavailability.\"\n",
    ")\n",
    "\n",
    "# Slide 3 - Data Overview\n",
    "slide = prs.slides.add_slide(prs.slide_layouts[1])\n",
    "slide.shapes.title.text = \"Data Overview\"\n",
    "slide.placeholders[1].text = (\n",
    "    \"• Dataset: Uber_Cleaned.xlsx\\n\"\n",
    "    \"• Key Columns: Status, Pickup point, Request time, Drop time\\n\"\n",
    "    \"• Status Values: Trip Completed, Cancelled, No Cars Available\"\n",
    ")\n",
    "\n",
    "# Slide 4 - Sample Chart (Trip Status Distribution)\n",
    "slide = prs.slides.add_slide(prs.slide_layouts[5])\n",
    "slide.shapes.title.text = \"Trip Status Distribution\"\n",
    "slide.shapes.add_picture(\"trip_status_pie.png\", Inches(1), Inches(1.5), width=Inches(6))\n",
    "\n",
    "# Slide 5 - Thank You\n",
    "slide = prs.slides.add_slide(prs.slide_layouts[1])\n",
    "slide.shapes.title.text = \"Thank You\"\n",
    "slide.placeholders[1].text = \"Questions are welcome.\"\n",
    "\n",
    "# Save\n",
    "prs.save(\"Uber_Data_Analysis_Summary.pptx\")\n"
   ]
  },
  {
   "cell_type": "code",
   "execution_count": 46,
   "id": "1846607c-2526-4e68-8512-437450714780",
   "metadata": {},
   "outputs": [],
   "source": [
    "from pptx import Presentation\n",
    "from pptx.util import Inches"
   ]
  },
  {
   "cell_type": "code",
   "execution_count": 47,
   "id": "6d688d02-7786-4efe-b816-57d1f6921e4b",
   "metadata": {},
   "outputs": [],
   "source": [
    "# Slide - Insights\n",
    "slide = prs.slides.add_slide(prs.slide_layouts[1])\n",
    "slide.shapes.title.text = \"Insights from the Analysis\"\n",
    "slide.placeholders[1].text = (\n",
    "    \"• Airport pickups had the highest trip completion rates.\\n\"\n",
    "    \"• City pickups faced more cancellations and car unavailability.\\n\"\n",
    "    \"• Most trip requests were from the city, but many were unsuccessful.\\n\"\n",
    "    \"• Improving driver availability in the city may reduce cancellations.\\n\"\n",
    "    \"• Time-based analysis (optional) could reveal peak demand periods.\"\n",
    ")\n"
   ]
  },
  {
   "cell_type": "code",
   "execution_count": 48,
   "id": "f1309b1c-0ff8-41e2-a1f4-081a905099df",
   "metadata": {},
   "outputs": [
    {
     "name": "stdout",
     "output_type": "stream",
     "text": [
      "Requirement already satisfied: python-pptx in c:\\users\\shrut\\anaconda3\\lib\\site-packages (1.0.2)\n",
      "Requirement already satisfied: Pillow>=3.3.2 in c:\\users\\shrut\\anaconda3\\lib\\site-packages (from python-pptx) (10.4.0)\n",
      "Requirement already satisfied: XlsxWriter>=0.5.7 in c:\\users\\shrut\\anaconda3\\lib\\site-packages (from python-pptx) (3.2.5)\n",
      "Requirement already satisfied: lxml>=3.1.0 in c:\\users\\shrut\\anaconda3\\lib\\site-packages (from python-pptx) (5.2.1)\n",
      "Requirement already satisfied: typing-extensions>=4.9.0 in c:\\users\\shrut\\anaconda3\\lib\\site-packages (from python-pptx) (4.11.0)\n"
     ]
    }
   ],
   "source": [
    "!pip install python-pptx\n"
   ]
  },
  {
   "cell_type": "code",
   "execution_count": 49,
   "id": "c8222140-e764-4d82-bdc2-d020c59fdd82",
   "metadata": {},
   "outputs": [],
   "source": [
    "from pptx import Presentation\n",
    "from pptx.util import Inches\n",
    "\n",
    "# Create presentation\n",
    "prs = Presentation()\n",
    "\n",
    "# Slide 1 - Title\n",
    "slide = prs.slides.add_slide(prs.slide_layouts[0])\n",
    "slide.shapes.title.text = \"Uber Trips Data Analysis\"\n",
    "slide.placeholders[1].text = \"By Shruti Sumadhur Ghosh\"\n",
    "\n",
    "# Slide 2 - Objective\n",
    "slide = prs.slides.add_slide(prs.slide_layouts[1])\n",
    "slide.shapes.title.text = \"Project Objective\"\n",
    "slide.placeholders[1].text = (\n",
    "    \"To analyze Uber trip patterns using SQL and Python.\\n\"\n",
    "    \"We aim to understand trip completion, cancellations, and car unavailability.\"\n",
    ")\n",
    "\n",
    "# Slide 3 - Data Overview\n",
    "slide = prs.slides.add_slide(prs.slide_layouts[1])\n",
    "slide.shapes.title.text = \"Data Overview\"\n",
    "slide.placeholders[1].text = (\n",
    "    \"• Dataset: Uber_Cleaned.xlsx\\n\"\n",
    "    \"• Key Columns: Status, Pickup point, Request time, Drop time\\n\"\n",
    "    \"• Status Types: Trip Completed, Cancelled, No Cars Available\"\n",
    ")\n",
    "\n",
    "# Slide 4 - Key Questions\n",
    "slide = prs.slides.add_slide(prs.slide_layouts[1])\n",
    "slide.shapes.title.text = \"Key Questions Explored\"\n",
    "slide.placeholders[1].text = (\n",
    "    \"• What is the overall distribution of trip statuses?\\n\"\n",
    "    \"• Which pickup point had the most successful trips?\\n\"\n",
    "    \"• Where were cancellations and unavailability highest?\"\n",
    ")\n",
    "\n",
    "# Slide 5 - Trip Status Pie Chart\n",
    "slide = prs.slides.add_slide(prs.slide_layouts[5])\n",
    "slide.shapes.title.text = \"Trip Status Distribution\"\n",
    "slide.shapes.add_picture(\"trip_status_pie.png\", Inches(1), Inches(1.5), width=Inches(6))\n",
    "\n",
    "# Slide 6 - Pickup Point Pie Chart\n",
    "slide = prs.slides.add_slide(prs.slide_layouts[5])\n",
    "slide.shapes.title.text = \"Pickup Point Share\"\n",
    "slide.shapes.add_picture(\"pickup_point_pie.png\", Inches(1), Inches(1.5), width=Inches(6))\n",
    "\n",
    "# Slide 7 - Trip Status Comparison by Pickup Point\n",
    "slide = prs.slides.add_slide(prs.slide_layouts[5])\n",
    "slide.shapes.title.text = \"Trip Status by Pickup Point\"\n",
    "slide.shapes.add_picture(\"uber_trip_status_comparison.png\", Inches(1), Inches(1.5), width=Inches(6))\n",
    "\n",
    "# Slide 8 - Insights\n",
    "slide = prs.slides.add_slide(prs.slide_layouts[1])\n",
    "slide.shapes.title.text = \"Insights from the Analysis\"\n",
    "slide.placeholders[1].text = (\n",
    "    \"• Airport pickups had the highest trip completion rate.\\n\"\n",
    "    \"• City pickups faced more cancellations and car unavailability.\\n\"\n",
    "    \"• Most trip requests were from the city.\\n\"\n",
    "    \"• Improving availability in the city may boost completion.\\n\"\n",
    "    \"• Airport requests were more efficient, possibly due to better planning.\"\n",
    ")\n",
    "\n",
    "# Slide 9 - Thank You\n",
    "slide = prs.slides.add_slide(prs.slide_layouts[0])\n",
    "slide.shapes.title.text = \"Thank You!\"\n",
    "slide.placeholders[1].text = \"Questions are welcome.\"\n",
    "\n",
    "# Save presentation\n",
    "prs.save(\"Uber_Data_Analysis_Summary.pptx\")\n"
   ]
  },
  {
   "cell_type": "code",
   "execution_count": 50,
   "id": "0ec1d897-68a1-412b-aaba-53e7bc7973ac",
   "metadata": {},
   "outputs": [],
   "source": [
    "from pptx import Presentation\n",
    "from pptx.util import Inches\n",
    "\n",
    "prs = Presentation()\n",
    "\n",
    "# Slide 1 - Title\n",
    "slide = prs.slides.add_slide(prs.slide_layouts[0])\n",
    "slide.shapes.title.text = \"Uber Trips Data Analysis\"\n",
    "slide.placeholders[1].text = \"By Shruti Sumadhur Ghosh\"\n",
    "\n",
    "# Slide 2 - Objective\n",
    "slide = prs.slides.add_slide(prs.slide_layouts[1])\n",
    "slide.shapes.title.text = \"Project Objective\"\n",
    "slide.placeholders[1].text = (\n",
    "    \"To analyze Uber trip patterns using SQL and Python.\\n\"\n",
    "    \"We aim to understand trip completion, cancellations, and car unavailability.\"\n",
    ")\n",
    "\n",
    "# Slide 3 - Data Overview\n",
    "slide = prs.slides.add_slide(prs.slide_layouts[1])\n",
    "slide.shapes.title.text = \"Data Overview\"\n",
    "slide.placeholders[1].text = (\n",
    "    \"• Dataset: Uber_Cleaned.xlsx\\n\"\n",
    "    \"• Key Columns: Status, Pickup point, Request time, Drop time\\n\"\n",
    "    \"• Status Types: Trip Completed, Cancelled, No Cars Available\"\n",
    ")\n",
    "\n",
    "# Slide 4 - Key Questions\n",
    "slide = prs.slides.add_slide(prs.slide_layouts[1])\n",
    "slide.shapes.title.text = \"Key Questions Explored\"\n",
    "slide.placeholders[1].text = (\n",
    "    \"• What is the overall distribution of trip statuses?\\n\"\n",
    "    \"• Which pickup point had the most successful trips?\\n\"\n",
    "    \"• Where were cancellations and unavailability highest?\"\n",
    ")\n",
    "\n",
    "# Slide 5 - Pie Chart: Trip Status\n",
    "slide = prs.slides.add_slide(prs.slide_layouts[5])\n",
    "slide.shapes.title.text = \"How Did Uber Trips End?\"\n",
    "slide.shapes.add_picture(\"trip_status_pie.png\", Inches(1), Inches(1.5), width=Inches(6))\n",
    "\n",
    "# Slide 6 - Pie Chart: Pickup Point Share\n",
    "slide = prs.slides.add_slide(prs.slide_layouts[5])\n",
    "slide.shapes.title.text = \"Where Were Trips Requested From?\"\n",
    "slide.shapes.add_picture(\"pickup_point_pie.png\", Inches(1), Inches(1.5), width=Inches(6))\n",
    "\n",
    "# Slide 7 - Comparison Bar Chart\n",
    "slide = prs.slides.add_slide(prs.slide_layouts[5])\n",
    "slide.shapes.title.text = \"Success vs Failure by Location\"\n",
    "slide.shapes.add_picture(\"uber_trip_status_comparison.png\", Inches(1), Inches(1.5), width=Inches(6))\n",
    "\n",
    "# Slide 8 - Insights\n",
    "slide = prs.slides.add_slide(prs.slide_layouts[1])\n",
    "slide.shapes.title.text = \"Key Insights from the Analysis\"\n",
    "slide.placeholders[1].text = (\n",
    "    \"• Most trip requests came from the City, but many were not completed.\\n\"\n",
    "    \"• Airport trips had the highest completion rate and lowest cancellations.\\n\"\n",
    "    \"• No Cars Available was a major issue for City pickups.\\n\"\n",
    "    \"• Improving driver availability in the City could raise success rates.\\n\"\n",
    "    \"• This data suggests operational focus should shift to City requests.\"\n",
    ")\n",
    "\n",
    "# Slide 9 - Thank You\n",
    "slide = prs.slides.add_slide(prs.slide_layouts[0])\n",
    "slide.shapes.title.text = \"Thank You!\"\n",
    "slide.placeholders[1].text = \"Questions are welcome.\"\n",
    "\n",
    "# Save file\n",
    "prs.save(\"Uber_Data_Analysis_Summary.pptx\")\n"
   ]
  },
  {
   "cell_type": "code",
   "execution_count": null,
   "id": "d2e152a6-cefe-45f9-aa4c-8f68a25af459",
   "metadata": {},
   "outputs": [],
   "source": []
  }
 ],
 "metadata": {
  "kernelspec": {
   "display_name": "Python [conda env:base] *",
   "language": "python",
   "name": "conda-base-py"
  },
  "language_info": {
   "codemirror_mode": {
    "name": "ipython",
    "version": 3
   },
   "file_extension": ".py",
   "mimetype": "text/x-python",
   "name": "python",
   "nbconvert_exporter": "python",
   "pygments_lexer": "ipython3",
   "version": "3.12.7"
  }
 },
 "nbformat": 4,
 "nbformat_minor": 5
}
